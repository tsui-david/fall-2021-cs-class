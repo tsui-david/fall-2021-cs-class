{
 "cells": [
  {
   "cell_type": "markdown",
   "id": "986b464e",
   "metadata": {},
   "source": [
    "# Dictionaries\n",
    "\n",
    "### Goal\n",
    "- Learn about dictionaries (dict) in Python\n",
    "- Store key-value pairs\n",
    "\n",
    "### What is it used for?\n",
    "- Storing a 1 to 1 mapping of key (can be a string, integer, tuple) to a value (can be any data type - list, other dictionaries, string, integer)\n",
    "\n",
    "### Has there been similar data structures used for storing things?\n",
    "- Arrays (lists)!\n",
    "- What do arrays store? Values such as strings, integers, other arrays, and guess what dictionaries as well now\n",
    "- How do we access a value in the array? We use indices"
   ]
  },
  {
   "cell_type": "code",
   "execution_count": 3,
   "id": "8a3314db",
   "metadata": {},
   "outputs": [],
   "source": [
    "a = [1]    # an array with an integer\n",
    "b = [\"hi\"] # an array with a string\n",
    "c = [[1]]  # an array with an array\n",
    "d = [c]    # whoa an array with an array of an array..."
   ]
  },
  {
   "cell_type": "markdown",
   "id": "24ec21a0",
   "metadata": {},
   "source": [
    "### Why "
   ]
  }
 ],
 "metadata": {
  "kernelspec": {
   "display_name": "Python 3 (ipykernel)",
   "language": "python",
   "name": "python3"
  },
  "language_info": {
   "codemirror_mode": {
    "name": "ipython",
    "version": 3
   },
   "file_extension": ".py",
   "mimetype": "text/x-python",
   "name": "python",
   "nbconvert_exporter": "python",
   "pygments_lexer": "ipython3",
   "version": "3.9.6"
  }
 },
 "nbformat": 4,
 "nbformat_minor": 5
}
